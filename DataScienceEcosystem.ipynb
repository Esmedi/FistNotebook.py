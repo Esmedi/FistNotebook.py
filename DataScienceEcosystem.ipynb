{
 "cells": [
  {
   "cell_type": "markdown",
   "id": "79692005-2eee-4922-8e12-4bcc6d762ce6",
   "metadata": {},
   "source": [
    "# Data Science Tools and Ecosystem"
   ]
  },
  {
   "cell_type": "markdown",
   "id": "80abb5d7-bd34-4414-ac95-883dd99ec0dd",
   "metadata": {},
   "source": [
    "In this notebook, Data Science Tools and Ecosystem are summarized."
   ]
  },
  {
   "cell_type": "markdown",
   "id": "428f8f54-3c6c-4ac4-807e-173b17acbac0",
   "metadata": {},
   "source": [
    "Objectives: \n",
    "we will learn \n",
    "- the popular languages for Data Science\n",
    "- Some commonly used libraries\n",
    "- Data science Tools\n",
    "- a few examples of evaluating arithmetic expressions in Python"
   ]
  },
  {
   "cell_type": "markdown",
   "id": "91ed5a9e-4dac-4485-b535-ebbce88575c3",
   "metadata": {},
   "source": [
    "Some of the popular languages that Data Scientists use are:\n",
    "1. Python\n",
    "2. R\n",
    "3. SQL\n",
    "4. Scala\n",
    "5. Java\n",
    "6. C++"
   ]
  },
  {
   "cell_type": "markdown",
   "id": "6b8ab475-df17-4cbf-ad53-6dbe7ea7af77",
   "metadata": {},
   "source": [
    "Some of the commonly used libraries used by Data Scientists include:\n",
    "1. Panda\n",
    "2. Nunpy\n",
    "3. Scipy\n",
    "4. Matplotb"
   ]
  },
  {
   "cell_type": "markdown",
   "id": "15c09a99-af94-4afb-abc1-62b8fa421d0e",
   "metadata": {},
   "source": [
    "|Data Science Tools|\n",
    "|------------------|\n",
    "|Jupyter Lite|\n",
    "|Google Colaboratory|\n",
    "|Anaconda|"
   ]
  },
  {
   "cell_type": "markdown",
   "id": "947aa8c7-4815-4fe2-99ee-46bfdb7170d8",
   "metadata": {},
   "source": [
    "### Below are a few examples of evaluating arithmetic expressions in Python"
   ]
  },
  {
   "cell_type": "code",
   "execution_count": 14,
   "id": "59a99f4b-9275-4770-a242-87fb1ca4aa77",
   "metadata": {},
   "outputs": [
    {
     "data": {
      "text/plain": [
       "17"
      ]
     },
     "execution_count": 14,
     "metadata": {},
     "output_type": "execute_result"
    }
   ],
   "source": [
    "#This a simple arithmetic expression to mutiply then add integers\n",
    "(3*4)+5"
   ]
  },
  {
   "cell_type": "code",
   "execution_count": 16,
   "id": "b746c410-e529-4e48-aa19-7bde8c1fe51f",
   "metadata": {},
   "outputs": [
    {
     "data": {
      "text/plain": [
       "3.3333333333333335"
      ]
     },
     "execution_count": 16,
     "metadata": {},
     "output_type": "execute_result"
    }
   ],
   "source": [
    "# this will convert 200 minutes to hours by diving by 60.\n",
    "200/60"
   ]
  },
  {
   "cell_type": "markdown",
   "id": "8ba2b3e0-eeea-40ef-a7a0-d9222031e2cd",
   "metadata": {},
   "source": [
    "## Diana Sarmiento\n",
    "Author"
   ]
  },
  {
   "cell_type": "code",
   "execution_count": null,
   "id": "78fd721b-a76b-4249-a0a5-7c0c158dbf88",
   "metadata": {},
   "outputs": [],
   "source": []
  }
 ],
 "metadata": {
  "kernelspec": {
   "display_name": "Python [conda env:base] *",
   "language": "python",
   "name": "conda-base-py"
  },
  "language_info": {
   "codemirror_mode": {
    "name": "ipython",
    "version": 3
   },
   "file_extension": ".py",
   "mimetype": "text/x-python",
   "name": "python",
   "nbconvert_exporter": "python",
   "pygments_lexer": "ipython3",
   "version": "3.12.7"
  }
 },
 "nbformat": 4,
 "nbformat_minor": 5
}
